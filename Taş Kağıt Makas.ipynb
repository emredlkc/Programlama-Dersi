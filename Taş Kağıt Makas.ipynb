{
 "cells": [
  {
   "cell_type": "code",
   "execution_count": 5,
   "metadata": {},
   "outputs": [
    {
     "name": "stdout",
     "output_type": "stream",
     "text": [
      "Hatalı giriş yaptınız tekrar deneyin.\n"
     ]
    }
   ],
   "source": [
    "from random import randint\n",
    "\n",
    "t= [\"Taş\", \"Kağıt\" , \"Makas\"]\n",
    "\n",
    "bilgiseyar = t[randint(0,2)] \n",
    "oyuncu = False\n",
    "\n",
    "while oyuncu == False :\n",
    "    oyuncu= input ( \"Taş, Kağıt , Makas \" )\n",
    "    if oyuncu == bilgiseyar :\n",
    "        print ( \"Berabere\")\n",
    "    elif oyuncu ==\"Taş\" :\n",
    "        if bilgiseyar == \"Kağıt\":\n",
    "            print (\"Kaybettin tekrar dene .\")\n",
    "        else:\n",
    "            print(\"Kazandın.\")\n",
    "    elif oyuncu == \"Kağıt\":\n",
    "        if bilgiseyar == \"Makas\":\n",
    "            print(\" Kaybettin tekrar dene \")\n",
    "        else :\n",
    "            print ( \"Kazandınız\")\n",
    "    elif oyuncu ==\"Makas\":\n",
    "        if bilgiseyar == \"Taş\":\n",
    "            print(\"Kaybettin tekrar dene.\")\n",
    "        else :\n",
    "            print(\"Kazandınız.\")\n",
    "    else  :\n",
    "        print(\"Hatalı giriş yaptınız tekrar deneyin.\")\n",
    "        break\n",
    "    print (\"Bilgiseyarın seçtiği :\" ,bilgiseyar)\n",
    "oyuncu = False\n",
    "bilgiseyar = t [randint(0,2)]"
   ]
  }
 ],
 "metadata": {
  "kernelspec": {
   "display_name": "Python 3.10.8 64-bit (microsoft store)",
   "language": "python",
   "name": "python3"
  },
  "language_info": {
   "codemirror_mode": {
    "name": "ipython",
    "version": 3
   },
   "file_extension": ".py",
   "mimetype": "text/x-python",
   "name": "python",
   "nbconvert_exporter": "python",
   "pygments_lexer": "ipython3",
   "version": "3.10.8"
  },
  "orig_nbformat": 4,
  "vscode": {
   "interpreter": {
    "hash": "41264e0c20610875951584d0163c209522ad30d02d3f4463726ba6603126959d"
   }
  }
 },
 "nbformat": 4,
 "nbformat_minor": 2
}
